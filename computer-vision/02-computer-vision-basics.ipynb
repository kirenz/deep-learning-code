{
 "cells": [
  {
   "cell_type": "markdown",
   "source": [
    "# Computer vision - build a neural network\n",
    "\n",
    "*The content of this notebook is based on the official TensorFlow tutorial \"TensorFlow 2 quickstart for beginners\". Here is the original source code:*"
   ],
   "metadata": {
    "id": "rX8mhOLljYeM"
   }
  },
  {
   "cell_type": "markdown",
   "source": [
    "<table class=\"tfo-notebook-buttons\" align=\"left\">\n",
    "  <td>\n",
    "    <a target=\"_blank\" href=\"https://www.tensorflow.org/tutorials/quickstart/beginner\"><img src=\"https://www.tensorflow.org/images/tf_logo_32px.png\" />View on TensorFlow.org</a>\n",
    "  </td>\n",
    "  <td>\n",
    "    <a target=\"_blank\" href=\"https://colab.research.google.com/github/tensorflow/docs/blob/master/site/en/tutorials/quickstart/beginner.ipynb\"><img src=\"https://www.tensorflow.org/images/colab_logo_32px.png\" />Run in Google Colab</a>\n",
    "  </td>\n",
    "  <td>\n",
    "    <a target=\"_blank\" href=\"https://github.com/tensorflow/docs/blob/master/site/en/tutorials/quickstart/beginner.ipynb\"><img src=\"https://www.tensorflow.org/images/GitHub-Mark-32px.png\" />View source on GitHub</a>\n",
    "  </td>\n",
    "  <td>\n",
    "    <a href=\"https://storage.googleapis.com/tensorflow_docs/docs/site/en/tutorials/quickstart/beginner.ipynb\"><img src=\"https://www.tensorflow.org/images/download_logo_32px.png\" />Download notebook</a>\n",
    "  </td>\n",
    "</table>"
   ],
   "metadata": {
    "id": "DUNzJc4jTj6G"
   }
  },
  {
   "cell_type": "markdown",
   "source": [
    "This short introduction uses [Keras](https://www.tensorflow.org/guide/keras/overview) to:\n",
    "\n",
    "1. Build a neural network that classifies images.\n",
    "2. Train this neural network.\n",
    "3. And, finally, evaluate the accuracy of the model."
   ],
   "metadata": {}
  },
  {
   "cell_type": "markdown",
   "source": [
    "## Data preparation"
   ],
   "metadata": {
    "id": "04QgGZc9bF5D"
   }
  },
  {
   "cell_type": "code",
   "execution_count": 3,
   "source": [
    "import tensorflow as tf"
   ],
   "outputs": [],
   "metadata": {
    "execution": {
     "iopub.execute_input": "2021-06-16T19:21:02.775749Z",
     "iopub.status.busy": "2021-06-16T19:21:02.775178Z",
     "iopub.status.idle": "2021-06-16T19:21:04.172552Z",
     "shell.execute_reply": "2021-06-16T19:21:04.172947Z"
    },
    "id": "0trJmd6DjqBZ"
   }
  },
  {
   "cell_type": "markdown",
   "source": [
    "Load and prepare the [MNIST dataset](http://yann.lecun.com/exdb/mnist/). Convert the samples from integers to floating-point numbers:"
   ],
   "metadata": {
    "id": "7NAbSZiaoJ4z"
   }
  },
  {
   "cell_type": "code",
   "execution_count": 4,
   "source": [
    "mnist = tf.keras.datasets.mnist\n",
    "\n",
    "(x_train, y_train), (x_test, y_test) = mnist.load_data()\n",
    "x_train, x_test = x_train / 255.0, x_test / 255.0"
   ],
   "outputs": [],
   "metadata": {
    "execution": {
     "iopub.execute_input": "2021-06-16T19:21:04.177134Z",
     "iopub.status.busy": "2021-06-16T19:21:04.176533Z",
     "iopub.status.idle": "2021-06-16T19:21:04.584244Z",
     "shell.execute_reply": "2021-06-16T19:21:04.584639Z"
    },
    "id": "7FP5258xjs-v"
   }
  },
  {
   "cell_type": "markdown",
   "source": [
    "## Neural network design"
   ],
   "metadata": {}
  },
  {
   "cell_type": "markdown",
   "source": [
    "Build the `tf.keras.Sequential` model by stacking layers. The ``Dropout`` layer randomly sets input units to 0 with a frequency of rate 0.2 at each step during training time, which helps prevent overfitting. "
   ],
   "metadata": {
    "id": "BPZ68wASog_I"
   }
  },
  {
   "cell_type": "code",
   "execution_count": 5,
   "source": [
    "model = tf.keras.models.Sequential([\n",
    "  tf.keras.layers.Flatten(input_shape=(28, 28)),\n",
    "  tf.keras.layers.Dense(128, activation='relu'),\n",
    "  tf.keras.layers.Dropout(0.2),\n",
    "  tf.keras.layers.Dense(10)\n",
    "])"
   ],
   "outputs": [],
   "metadata": {
    "execution": {
     "iopub.execute_input": "2021-06-16T19:21:04.589243Z",
     "iopub.status.busy": "2021-06-16T19:21:04.588688Z",
     "iopub.status.idle": "2021-06-16T19:21:06.138281Z",
     "shell.execute_reply": "2021-06-16T19:21:06.138649Z"
    },
    "id": "h3IKyzTCDNGo"
   }
  },
  {
   "cell_type": "markdown",
   "source": [
    "### Optimizer and loss function"
   ],
   "metadata": {}
  },
  {
   "cell_type": "markdown",
   "source": [
    "Next, we need to choose an **optimizer** and **loss** function for training:"
   ],
   "metadata": {}
  },
  {
   "cell_type": "markdown",
   "source": [
    "For each example the model returns a vector of \"[logits](https://developers.google.com/machine-learning/glossary#logits)\" or \"[log-odds](https://developers.google.com/machine-learning/glossary#log-odds)\" scores, one for each class."
   ],
   "metadata": {
    "id": "l2hiez2eIUz8"
   }
  },
  {
   "cell_type": "code",
   "execution_count": 6,
   "source": [
    "predictions = model(x_train[:1]).numpy()\n",
    "predictions"
   ],
   "outputs": [
    {
     "output_type": "execute_result",
     "data": {
      "text/plain": [
       "array([[ 0.16821931,  0.3898082 ,  0.12535964, -0.7232452 ,  0.51362497,\n",
       "         0.00426391, -0.10888806, -0.35102203, -0.43187338, -0.5077769 ]],\n",
       "      dtype=float32)"
      ]
     },
     "metadata": {},
     "execution_count": 6
    }
   ],
   "metadata": {
    "execution": {
     "iopub.execute_input": "2021-06-16T19:21:06.142866Z",
     "iopub.status.busy": "2021-06-16T19:21:06.142317Z",
     "iopub.status.idle": "2021-06-16T19:21:06.540256Z",
     "shell.execute_reply": "2021-06-16T19:21:06.540639Z"
    },
    "id": "OeOrNdnkEEcR"
   }
  },
  {
   "cell_type": "markdown",
   "source": [
    "The `tf.nn.softmax` function converts these logits to \"probabilities\" for each class: "
   ],
   "metadata": {
    "id": "tgjhDQGcIniO"
   }
  },
  {
   "cell_type": "code",
   "execution_count": 7,
   "source": [
    "tf.nn.softmax(predictions).numpy()"
   ],
   "outputs": [
    {
     "output_type": "execute_result",
     "data": {
      "text/plain": [
       "array([[0.12065846, 0.15058877, 0.11559633, 0.04947658, 0.17043765,\n",
       "        0.10241248, 0.09145587, 0.07178838, 0.06621262, 0.06137285]],\n",
       "      dtype=float32)"
      ]
     },
     "metadata": {},
     "execution_count": 7
    }
   ],
   "metadata": {
    "execution": {
     "iopub.execute_input": "2021-06-16T19:21:06.544545Z",
     "iopub.status.busy": "2021-06-16T19:21:06.543802Z",
     "iopub.status.idle": "2021-06-16T19:21:06.547232Z",
     "shell.execute_reply": "2021-06-16T19:21:06.547609Z"
    },
    "id": "zWSRnQ0WI5eq"
   }
  },
  {
   "cell_type": "markdown",
   "source": [
    "Note: It is possible to bake this `tf.nn.softmax` in as the activation function for the last layer of the network. While this can make the model output more directly interpretable, this approach is discouraged as it's impossible to\n",
    "provide an exact and numerically stable loss calculation for all models when using a softmax output. "
   ],
   "metadata": {
    "id": "he5u_okAYS4a"
   }
  },
  {
   "cell_type": "markdown",
   "source": [
    "The `losses.SparseCategoricalCrossentropy` loss takes a vector of logits and a `True` index and returns a scalar loss for each example."
   ],
   "metadata": {
    "id": "hQyugpgRIyrA"
   }
  },
  {
   "cell_type": "code",
   "execution_count": 8,
   "source": [
    "loss_fn = tf.keras.losses.SparseCategoricalCrossentropy(from_logits=True)"
   ],
   "outputs": [],
   "metadata": {
    "execution": {
     "iopub.execute_input": "2021-06-16T19:21:06.551473Z",
     "iopub.status.busy": "2021-06-16T19:21:06.550735Z",
     "iopub.status.idle": "2021-06-16T19:21:06.552701Z",
     "shell.execute_reply": "2021-06-16T19:21:06.553025Z"
    },
    "id": "RSkzdv8MD0tT"
   }
  },
  {
   "cell_type": "markdown",
   "source": [
    "This loss is equal to the negative log probability of the true class:\n",
    "It is zero if the model is sure of the correct class.\n",
    "\n",
    "This untrained model gives probabilities close to random (1/10 for each class), so the initial loss should be close to `-tf.math.log(1/10) ~= 2.3`."
   ],
   "metadata": {
    "id": "SfR4MsSDU880"
   }
  },
  {
   "cell_type": "code",
   "execution_count": 10,
   "source": [
    "loss_fn(y_train[:1], predictions).numpy()"
   ],
   "outputs": [
    {
     "output_type": "execute_result",
     "data": {
      "text/plain": [
       "2.2787466"
      ]
     },
     "metadata": {},
     "execution_count": 10
    }
   ],
   "metadata": {
    "execution": {
     "iopub.execute_input": "2021-06-16T19:21:06.557414Z",
     "iopub.status.busy": "2021-06-16T19:21:06.556549Z",
     "iopub.status.idle": "2021-06-16T19:21:06.562349Z",
     "shell.execute_reply": "2021-06-16T19:21:06.561935Z"
    },
    "id": "NJWqEVrrJ7ZB"
   }
  },
  {
   "cell_type": "code",
   "execution_count": 12,
   "source": [
    "model.compile(optimizer='adam',\n",
    "              loss=loss_fn,\n",
    "              metrics=['accuracy'])"
   ],
   "outputs": [],
   "metadata": {
    "execution": {
     "iopub.execute_input": "2021-06-16T19:21:06.569247Z",
     "iopub.status.busy": "2021-06-16T19:21:06.568392Z",
     "iopub.status.idle": "2021-06-16T19:21:06.573819Z",
     "shell.execute_reply": "2021-06-16T19:21:06.574146Z"
    },
    "id": "9foNKHzTD2Vo"
   }
  },
  {
   "cell_type": "markdown",
   "source": [
    "### Model training"
   ],
   "metadata": {}
  },
  {
   "cell_type": "markdown",
   "source": [
    "The `Model.fit` method adjusts the model parameters to minimize the loss: "
   ],
   "metadata": {
    "id": "ix4mEL65on-w"
   }
  },
  {
   "cell_type": "code",
   "execution_count": 13,
   "source": [
    "model.fit(x_train, y_train, epochs=5)"
   ],
   "outputs": [
    {
     "output_type": "stream",
     "name": "stdout",
     "text": [
      "Epoch 1/5\n",
      "1875/1875 [==============================] - 1s 642us/step - loss: 0.4928 - accuracy: 0.8556\n",
      "Epoch 2/5\n",
      "1875/1875 [==============================] - 1s 635us/step - loss: 0.1537 - accuracy: 0.9536\n",
      "Epoch 3/5\n",
      "1875/1875 [==============================] - 1s 765us/step - loss: 0.1104 - accuracy: 0.9671\n",
      "Epoch 4/5\n",
      "1875/1875 [==============================] - 1s 703us/step - loss: 0.0866 - accuracy: 0.9743\n",
      "Epoch 5/5\n",
      "1875/1875 [==============================] - 1s 692us/step - loss: 0.0755 - accuracy: 0.9767\n"
     ]
    },
    {
     "output_type": "execute_result",
     "data": {
      "text/plain": [
       "<tensorflow.python.keras.callbacks.History at 0x7f9df0429f50>"
      ]
     },
     "metadata": {},
     "execution_count": 13
    }
   ],
   "metadata": {
    "execution": {
     "iopub.execute_input": "2021-06-16T19:21:06.578052Z",
     "iopub.status.busy": "2021-06-16T19:21:06.577211Z",
     "iopub.status.idle": "2021-06-16T19:21:20.744057Z",
     "shell.execute_reply": "2021-06-16T19:21:20.744401Z"
    },
    "id": "y7suUbJXVLqP"
   }
  },
  {
   "cell_type": "markdown",
   "source": [
    "## Model evaluation\n",
    "\n",
    "The `Model.evaluate` method checks the models performance, usually on a \"[Validation-set](https://developers.google.com/machine-learning/glossary#validation-set)\" or \"[Test-set](https://developers.google.com/machine-learning/glossary#test-set)\"."
   ],
   "metadata": {
    "id": "4mDAAPFqVVgn"
   }
  },
  {
   "cell_type": "code",
   "execution_count": 15,
   "source": [
    "model.evaluate(x_test,  y_test, verbose=2)"
   ],
   "outputs": [
    {
     "output_type": "stream",
     "name": "stdout",
     "text": [
      "313/313 - 0s - loss: 0.0732 - accuracy: 0.9780\n"
     ]
    },
    {
     "output_type": "execute_result",
     "data": {
      "text/plain": [
       "[0.07321056723594666, 0.9779999852180481]"
      ]
     },
     "metadata": {},
     "execution_count": 15
    }
   ],
   "metadata": {
    "execution": {
     "iopub.execute_input": "2021-06-16T19:21:20.748560Z",
     "iopub.status.busy": "2021-06-16T19:21:20.747995Z",
     "iopub.status.idle": "2021-06-16T19:21:21.231885Z",
     "shell.execute_reply": "2021-06-16T19:21:21.231429Z"
    },
    "id": "F7dTAzgHDUh7"
   }
  },
  {
   "cell_type": "markdown",
   "source": [
    "The image classifier is now trained to ~98% accuracy on this dataset."
   ],
   "metadata": {
    "id": "T4JfEh7kvx6m"
   }
  },
  {
   "cell_type": "markdown",
   "source": [
    "If you want your model to return a probability, you can wrap the trained model, and attach the softmax to it:"
   ],
   "metadata": {
    "id": "Aj8NrlzlJqDG"
   }
  },
  {
   "cell_type": "code",
   "execution_count": 16,
   "source": [
    "probability_model = tf.keras.Sequential([\n",
    "  model,\n",
    "  tf.keras.layers.Softmax()\n",
    "])"
   ],
   "outputs": [],
   "metadata": {
    "execution": {
     "iopub.execute_input": "2021-06-16T19:21:21.236775Z",
     "iopub.status.busy": "2021-06-16T19:21:21.236217Z",
     "iopub.status.idle": "2021-06-16T19:21:21.250501Z",
     "shell.execute_reply": "2021-06-16T19:21:21.250090Z"
    },
    "id": "rYb6DrEH0GMv"
   }
  },
  {
   "cell_type": "code",
   "execution_count": 17,
   "source": [
    "probability_model(x_test[:5])"
   ],
   "outputs": [
    {
     "output_type": "execute_result",
     "data": {
      "text/plain": [
       "<tf.Tensor: shape=(5, 10), dtype=float32, numpy=\n",
       "array([[3.09392867e-08, 1.62570846e-09, 1.71217107e-06, 2.22564777e-05,\n",
       "        2.99183530e-13, 4.48554367e-08, 1.24438166e-12, 9.99974966e-01,\n",
       "        1.77110863e-07, 7.48243963e-07],\n",
       "       [1.52942015e-09, 8.80617663e-05, 9.99895930e-01, 9.36737433e-06,\n",
       "        4.43583938e-14, 1.88387526e-06, 7.11530346e-09, 4.60684968e-16,\n",
       "        4.78148104e-06, 3.28602510e-12],\n",
       "       [3.18908491e-07, 9.97908831e-01, 1.84463002e-04, 2.05156794e-05,\n",
       "        1.49538915e-04, 1.29564996e-05, 4.39937212e-05, 7.54863955e-04,\n",
       "        9.18019505e-04, 6.59599073e-06],\n",
       "       [9.99574482e-01, 1.91707514e-07, 1.81093463e-04, 9.37698587e-07,\n",
       "        4.54466817e-06, 1.49871175e-05, 2.02364303e-04, 1.57091508e-05,\n",
       "        1.03851740e-07, 5.66688004e-06],\n",
       "       [8.74082070e-06, 2.73454537e-10, 1.69499708e-05, 3.78712201e-07,\n",
       "        9.79025066e-01, 3.72799059e-06, 1.73404951e-05, 1.17754782e-04,\n",
       "        5.50070354e-06, 2.08045002e-02]], dtype=float32)>"
      ]
     },
     "metadata": {},
     "execution_count": 17
    }
   ],
   "metadata": {
    "execution": {
     "iopub.execute_input": "2021-06-16T19:21:21.253843Z",
     "iopub.status.busy": "2021-06-16T19:21:21.253288Z",
     "iopub.status.idle": "2021-06-16T19:21:21.258292Z",
     "shell.execute_reply": "2021-06-16T19:21:21.258636Z"
    },
    "id": "cnqOZtUp1YR_"
   }
  }
 ],
 "metadata": {
  "colab": {
   "collapsed_sections": [
    "rX8mhOLljYeM"
   ],
   "name": "beginner.ipynb",
   "toc_visible": true
  },
  "kernelspec": {
   "name": "python3",
   "display_name": "Python 3.7.10 64-bit ('tf': conda)"
  },
  "language_info": {
   "codemirror_mode": {
    "name": "ipython",
    "version": 3
   },
   "file_extension": ".py",
   "mimetype": "text/x-python",
   "name": "python",
   "nbconvert_exporter": "python",
   "pygments_lexer": "ipython3",
   "version": "3.7.10"
  },
  "interpreter": {
   "hash": "cf58adf281c1109bb77a891a75331c6a35e06bb3b54dcea0b3d7f126e25a2a09"
  }
 },
 "nbformat": 4,
 "nbformat_minor": 2
}